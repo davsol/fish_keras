{
 "cells": [
  {
   "cell_type": "code",
   "execution_count": 1,
   "metadata": {
    "collapsed": false
   },
   "outputs": [
    {
     "name": "stderr",
     "output_type": "stream",
     "text": [
      "Using Theano backend.\n"
     ]
    }
   ],
   "source": [
    "import sys\n",
    "import os as os\n",
    "import numpy as np\n",
    "from scipy import misc\n",
    "import matplotlib.pyplot as plt\n",
    "import matplotlib.image as mpimg\n",
    "import cv2\n",
    "import copy\n",
    "import keras as keras\n",
    "from keras.layers import Input, merge\n",
    "from keras.layers.convolutional import Convolution2D, MaxPooling2D\n",
    "from keras.layers.core import Dropout, Activation\n",
    "from keras.layers.pooling import GlobalAveragePooling2D\n",
    "from keras.models import Model\n",
    "import time\n",
    "sys.path.append(os.path.abspath('squeezeNet'))\n",
    "from squeezenet import *\n",
    "\n"
   ]
  },
  {
   "cell_type": "code",
   "execution_count": 2,
   "metadata": {
    "collapsed": false
   },
   "outputs": [
    {
     "name": "stdout",
     "output_type": "stream",
     "text": [
      "fishTypes : ALB\n",
      "number of score maps :  1919\n",
      "fishType number : 0/7\n"
     ]
    },
    {
     "ename": "KeyboardInterrupt",
     "evalue": "",
     "output_type": "error",
     "traceback": [
      "\u001b[1;31m---------------------------------------------------------------------------\u001b[0m",
      "\u001b[1;31mKeyboardInterrupt\u001b[0m                         Traceback (most recent call last)",
      "\u001b[1;32m<ipython-input-2-3eb2b26cf438>\u001b[0m in \u001b[0;36m<module>\u001b[1;34m()\u001b[0m\n\u001b[0;32m     61\u001b[0m         \u001b[0mscoreMapPath\u001b[0m \u001b[1;33m=\u001b[0m \u001b[0mos\u001b[0m\u001b[1;33m.\u001b[0m\u001b[0mpath\u001b[0m\u001b[1;33m.\u001b[0m\u001b[0mjoin\u001b[0m\u001b[1;33m(\u001b[0m\u001b[0mfishPath\u001b[0m\u001b[1;33m,\u001b[0m \u001b[0mscoreMapNames\u001b[0m\u001b[1;33m[\u001b[0m\u001b[0mimageIdx\u001b[0m\u001b[1;33m]\u001b[0m\u001b[1;33m)\u001b[0m\u001b[1;33m\u001b[0m\u001b[0m\n\u001b[0;32m     62\u001b[0m         \u001b[0mscoreMap\u001b[0m \u001b[1;33m=\u001b[0m \u001b[0mmisc\u001b[0m\u001b[1;33m.\u001b[0m\u001b[0mimread\u001b[0m\u001b[1;33m(\u001b[0m\u001b[0mscoreMapPath\u001b[0m\u001b[1;33m,\u001b[0m \u001b[0mmode\u001b[0m\u001b[1;33m=\u001b[0m\u001b[1;34m'L'\u001b[0m\u001b[1;33m)\u001b[0m\u001b[1;33m.\u001b[0m\u001b[0mastype\u001b[0m\u001b[1;33m(\u001b[0m\u001b[0mnp\u001b[0m\u001b[1;33m.\u001b[0m\u001b[0mfloat32\u001b[0m\u001b[1;33m)\u001b[0m\u001b[1;33m\u001b[0m\u001b[0m\n\u001b[1;32m---> 63\u001b[1;33m         \u001b[0mscoreMap\u001b[0m \u001b[1;33m=\u001b[0m \u001b[0mmisc\u001b[0m\u001b[1;33m.\u001b[0m\u001b[0mimresize\u001b[0m\u001b[1;33m(\u001b[0m\u001b[0mscoreMap\u001b[0m\u001b[1;33m,\u001b[0m \u001b[1;33m(\u001b[0m\u001b[0mh_score\u001b[0m\u001b[1;33m,\u001b[0m\u001b[0mw_score\u001b[0m\u001b[1;33m)\u001b[0m\u001b[1;33m)\u001b[0m\u001b[1;33m.\u001b[0m\u001b[0mastype\u001b[0m\u001b[1;33m(\u001b[0m\u001b[0mnp\u001b[0m\u001b[1;33m.\u001b[0m\u001b[0mbool\u001b[0m\u001b[1;33m)\u001b[0m\u001b[1;33m\u001b[0m\u001b[0m\n\u001b[0m\u001b[0;32m     64\u001b[0m         \u001b[0mscoreMaps\u001b[0m\u001b[1;33m[\u001b[0m\u001b[1;33m:\u001b[0m\u001b[1;33m,\u001b[0m\u001b[1;33m:\u001b[0m\u001b[1;33m,\u001b[0m \u001b[0mcounter\u001b[0m\u001b[1;33m]\u001b[0m \u001b[1;33m=\u001b[0m \u001b[0mscoreMap\u001b[0m\u001b[1;33m\u001b[0m\u001b[0m\n\u001b[0;32m     65\u001b[0m         \u001b[0mcounter\u001b[0m \u001b[1;33m+=\u001b[0m \u001b[1;36m1\u001b[0m\u001b[1;33m\u001b[0m\u001b[0m\n",
      "\u001b[1;32mC:\\Users\\David\\Anaconda2\\lib\\site-packages\\scipy\\misc\\pilutil.pyc\u001b[0m in \u001b[0;36mimresize\u001b[1;34m(arr, size, interp, mode)\u001b[0m\n\u001b[0;32m    485\u001b[0m         \u001b[0msize\u001b[0m \u001b[1;33m=\u001b[0m \u001b[1;33m(\u001b[0m\u001b[0msize\u001b[0m\u001b[1;33m[\u001b[0m\u001b[1;36m1\u001b[0m\u001b[1;33m]\u001b[0m\u001b[1;33m,\u001b[0m \u001b[0msize\u001b[0m\u001b[1;33m[\u001b[0m\u001b[1;36m0\u001b[0m\u001b[1;33m]\u001b[0m\u001b[1;33m)\u001b[0m\u001b[1;33m\u001b[0m\u001b[0m\n\u001b[0;32m    486\u001b[0m     \u001b[0mfunc\u001b[0m \u001b[1;33m=\u001b[0m \u001b[1;33m{\u001b[0m\u001b[1;34m'nearest'\u001b[0m\u001b[1;33m:\u001b[0m \u001b[1;36m0\u001b[0m\u001b[1;33m,\u001b[0m \u001b[1;34m'bilinear'\u001b[0m\u001b[1;33m:\u001b[0m \u001b[1;36m2\u001b[0m\u001b[1;33m,\u001b[0m \u001b[1;34m'bicubic'\u001b[0m\u001b[1;33m:\u001b[0m \u001b[1;36m3\u001b[0m\u001b[1;33m,\u001b[0m \u001b[1;34m'cubic'\u001b[0m\u001b[1;33m:\u001b[0m \u001b[1;36m3\u001b[0m\u001b[1;33m}\u001b[0m\u001b[1;33m\u001b[0m\u001b[0m\n\u001b[1;32m--> 487\u001b[1;33m     \u001b[0mimnew\u001b[0m \u001b[1;33m=\u001b[0m \u001b[0mim\u001b[0m\u001b[1;33m.\u001b[0m\u001b[0mresize\u001b[0m\u001b[1;33m(\u001b[0m\u001b[0msize\u001b[0m\u001b[1;33m,\u001b[0m \u001b[0mresample\u001b[0m\u001b[1;33m=\u001b[0m\u001b[0mfunc\u001b[0m\u001b[1;33m[\u001b[0m\u001b[0minterp\u001b[0m\u001b[1;33m]\u001b[0m\u001b[1;33m)\u001b[0m\u001b[1;33m\u001b[0m\u001b[0m\n\u001b[0m\u001b[0;32m    488\u001b[0m     \u001b[1;32mreturn\u001b[0m \u001b[0mfromimage\u001b[0m\u001b[1;33m(\u001b[0m\u001b[0mimnew\u001b[0m\u001b[1;33m)\u001b[0m\u001b[1;33m\u001b[0m\u001b[0m\n\u001b[0;32m    489\u001b[0m \u001b[1;33m\u001b[0m\u001b[0m\n",
      "\u001b[1;32mC:\\Users\\David\\Anaconda2\\lib\\site-packages\\PIL\\Image.pyc\u001b[0m in \u001b[0;36mresize\u001b[1;34m(self, size, resample)\u001b[0m\n\u001b[0;32m   1548\u001b[0m             \u001b[1;32mreturn\u001b[0m \u001b[0mself\u001b[0m\u001b[1;33m.\u001b[0m\u001b[0mconvert\u001b[0m\u001b[1;33m(\u001b[0m\u001b[1;34m'RGBa'\u001b[0m\u001b[1;33m)\u001b[0m\u001b[1;33m.\u001b[0m\u001b[0mresize\u001b[0m\u001b[1;33m(\u001b[0m\u001b[0msize\u001b[0m\u001b[1;33m,\u001b[0m \u001b[0mresample\u001b[0m\u001b[1;33m)\u001b[0m\u001b[1;33m.\u001b[0m\u001b[0mconvert\u001b[0m\u001b[1;33m(\u001b[0m\u001b[1;34m'RGBA'\u001b[0m\u001b[1;33m)\u001b[0m\u001b[1;33m\u001b[0m\u001b[0m\n\u001b[0;32m   1549\u001b[0m \u001b[1;33m\u001b[0m\u001b[0m\n\u001b[1;32m-> 1550\u001b[1;33m         \u001b[1;32mreturn\u001b[0m \u001b[0mself\u001b[0m\u001b[1;33m.\u001b[0m\u001b[0m_new\u001b[0m\u001b[1;33m(\u001b[0m\u001b[0mself\u001b[0m\u001b[1;33m.\u001b[0m\u001b[0mim\u001b[0m\u001b[1;33m.\u001b[0m\u001b[0mresize\u001b[0m\u001b[1;33m(\u001b[0m\u001b[0msize\u001b[0m\u001b[1;33m,\u001b[0m \u001b[0mresample\u001b[0m\u001b[1;33m)\u001b[0m\u001b[1;33m)\u001b[0m\u001b[1;33m\u001b[0m\u001b[0m\n\u001b[0m\u001b[0;32m   1551\u001b[0m \u001b[1;33m\u001b[0m\u001b[0m\n\u001b[0;32m   1552\u001b[0m     \u001b[1;32mdef\u001b[0m \u001b[0mrotate\u001b[0m\u001b[1;33m(\u001b[0m\u001b[0mself\u001b[0m\u001b[1;33m,\u001b[0m \u001b[0mangle\u001b[0m\u001b[1;33m,\u001b[0m \u001b[0mresample\u001b[0m\u001b[1;33m=\u001b[0m\u001b[0mNEAREST\u001b[0m\u001b[1;33m,\u001b[0m \u001b[0mexpand\u001b[0m\u001b[1;33m=\u001b[0m\u001b[1;36m0\u001b[0m\u001b[1;33m)\u001b[0m\u001b[1;33m:\u001b[0m\u001b[1;33m\u001b[0m\u001b[0m\n",
      "\u001b[1;31mKeyboardInterrupt\u001b[0m: "
     ]
    }
   ],
   "source": [
    "## this code creates the ground truth images, and the corresponding heatMaps, aquired by hand labelling\n",
    "## of the training data. \n",
    "## the input to my net will be an image of 720x1080x3\n",
    "## the output is a heatMap of 16x27\n",
    "\n",
    "projectPath = 'C:\\\\Users\\\\David\\\\Desktop\\\\GitFolder\\\\project1'\n",
    "dataPath = 'C:\\\\Users\\\\David\\\\Desktop\\\\Fish\\\\train\\\\train'\n",
    "scorePath = os.path.join('C:\\\\Users\\\\David\\\\Desktop\\\\Fish', 'train', 'binaryScoreMaps')\n",
    "\n",
    "# run through binaryScoreMap folders and count how many are there\n",
    "fishTypes = os.listdir(scorePath)\n",
    "print \"fishTypes : \" + fishTypes[0]\n",
    "numOfImages = 0\n",
    "for fishIdx in np.arange(1): #len(fishTypes)\n",
    "    fishPath = os.path.join(scorePath, fishTypes[fishIdx])\n",
    "    # filter all non jpg files\\folders\n",
    "    imageNames = [fn for fn in os.listdir(fishPath) if fn.endswith(\"jpg\")]\n",
    "    numOfImages = numOfImages + len(imageNames)\n",
    "    \n",
    "print 'number of score maps : ', numOfImages\n",
    "h_score = 16 #720\n",
    "h_img = 720\n",
    "w_score = 27 #1080\n",
    "w_img = 1080\n",
    "\n",
    "# create an array of all scoreMaps & all images\n",
    "scoreMaps = np.zeros((h_score,w_score,numOfImages))\n",
    "images = np.zeros((numOfImages,3, h_img, w_img), dtype=np.float32)\n",
    "\n",
    "# run through the data, and save all of it within an array\n",
    "counter = 0\n",
    "for fishIdx in np.arange(1): #len(fishTypes)\n",
    "    fishPath = os.path.join(scorePath, fishTypes[fishIdx])\n",
    "    # filter all non jpg files\\folders\n",
    "    scoreMapNames = [fn for fn in os.listdir(fishPath) if fn.endswith(\"jpg\")]\n",
    "    # run through the images and perform 2 things:\n",
    "    # 1. resize the score images to be of size h_score x w_score\n",
    "    # 2. perform all required data manipulation on the images themselfs..\n",
    "    # save all...\n",
    "    print 'fishType number : ' + np.str(fishIdx) + '/' + np.str(len(fishTypes))\n",
    "    for imageIdx in np.arange(len(scoreMapNames)):\n",
    "        # print the number of image\n",
    "        #print 'image number : ' + np.str(counter) + '/' + np.str(numOfImages)\n",
    "        # everything about the image\n",
    "        imagePath = os.path.join(dataPath, fishTypes[fishIdx], scoreMapNames[imageIdx])\n",
    "        img = misc.imread(imagePath).astype(np.float32)\n",
    "        img = misc.imresize(img, (720, 1080)).astype(np.float32)\n",
    "        #plt.imshow(img)        \n",
    "        aux = copy.copy(img)\n",
    "        img[:, :, 0] = aux[:, :, 2]\n",
    "        img[:, :, 2] = aux[:, :, 0]\n",
    "        # Remove train image mean\n",
    "        img[:, :, 0] -= 104.006\n",
    "        img[:, :, 1] -= 116.669\n",
    "        img[:, :, 2] -= 122.679\n",
    "        img = np.transpose(img, (2, 0, 1))\n",
    "        img = np.expand_dims(img, axis=0)\n",
    "        images[counter,:,:,:] = img\n",
    "        \n",
    "        #everything about the scoreMap\n",
    "        scoreMapPath = os.path.join(fishPath, scoreMapNames[imageIdx])\n",
    "        scoreMap = misc.imread(scoreMapPath, mode='L').astype(np.float32)\n",
    "        scoreMap = misc.imresize(scoreMap, (h_score,w_score)).astype(np.bool)\n",
    "        scoreMaps[:,:, counter] = scoreMap\n",
    "        counter += 1\n",
    "        "
   ]
  },
  {
   "cell_type": "code",
   "execution_count": 3,
   "metadata": {
    "collapsed": false
   },
   "outputs": [],
   "source": [
    "# save the array\n",
    "import h5py\n",
    "#np.save(\"C:\\\\Users\\\\David\\\\Desktop\\\\Fish\\\\train\\\\myFile\", images)\n",
    "#np.save(\"C:\\\\Users\\\\David\\\\Desktop\\\\Fish\\\\train\\\\myGroundTruth\", scoreMaps)\n",
    "#images = np.load(\"C:\\\\Users\\\\David\\\\Desktop\\\\Fish\\\\train\\\\myFile.npy\")\n",
    "#scoreMaps = np.load(\"C:\\\\Users\\\\David\\\\Desktop\\\\Fish\\\\train\\\\myGroundTruth.npy\")"
   ]
  },
  {
   "cell_type": "code",
   "execution_count": 24,
   "metadata": {
    "collapsed": false
   },
   "outputs": [
    {
     "name": "stdout",
     "output_type": "stream",
     "text": [
      "ready to start training...\n"
     ]
    }
   ],
   "source": [
    "# try training the network\n",
    "model = get_squeezenet(2,720,1080, dim_ordering='th')\n",
    "model.compile(loss=\"binary_crossentropy\", optimizer=\"adam\")\n",
    "model.load_weights(os.path.abspath('squeezeNet/model/squeezenet_weights_th_dim_ordering_th_kernels.h5'), by_name=True)\n",
    "lay = np.asarray(model.layers)\n",
    "\n",
    "allW = np.asarray(model.get_weights())\n",
    "#print 'shape : ', allW[50].shape\n",
    "#model.summary()\n",
    "extendedScoreMaps = np.zeros((2,scoreMaps.shape[0],scoreMaps.shape[1],scoreMaps.shape[2]))\n",
    "extendedScoreMaps[0,:,:,:] = 1*np.expand_dims(scoreMaps, axis=0).astype(np.bool)\n",
    "theNumberOne = np.ones((1,1,1,1))\n",
    "extendedScoreMaps[1,:,:,:] = np.abs(extendedScoreMaps[0,:,:,:]-theNumberOne)\n",
    "#print extendedScoreMaps.shape\n",
    "\n",
    "transposedScoreMaps = np.transpose(extendedScoreMaps, (3, 0, 1,2))\n",
    "print 'ready to start training...'"
   ]
  },
  {
   "cell_type": "code",
   "execution_count": null,
   "metadata": {
    "collapsed": false
   },
   "outputs": [
    {
     "name": "stdout",
     "output_type": "stream",
     "text": [
      "Train on 2711 samples, validate on 302 samples\n",
      "Epoch 1/1\n",
      "  40/2711 [..............................] - ETA: 5230s - loss: 0.6976"
     ]
    }
   ],
   "source": [
    "\n",
    "partialPath=\"weights-improvement-{epoch:02d}-{val_acc:.2f}.hdf5\"\n",
    "checkpoint = keras.callbacks.ModelCheckpoint(os.path.join('C:\\Users\\David\\Desktop\\Fish\\kerasModel',partialPath), monitor='val_acc', verbose=1, save_best_only=True,save_weights_only = False, mode='max')\n",
    "callbacks_list = [checkpoint]\n",
    "for epochNum in np.arange(4):\n",
    "    model.fit(x=images, y=transposedScoreMaps, batch_size=10, nb_epoch=epochNum+1, verbose=1, callbacks=None, validation_split=0.1, shuffle=True, class_weight=np.array([1.5, 0.5]), sample_weight=None, initial_epoch=epochNum)\n",
    "    model.save('C:\\Users\\David\\Desktop\\Fish\\kerasModel\\SecondModel' + np.str(epochNum) + '.h5')"
   ]
  },
  {
   "cell_type": "code",
   "execution_count": 17,
   "metadata": {
    "collapsed": false
   },
   "outputs": [],
   "source": [
    "model.save('C:\\Users\\David\\Desktop\\Fish\\kerasModel\\FirstModel3.h5')\n",
    "\n",
    "\n",
    "\n"
   ]
  },
  {
   "cell_type": "code",
   "execution_count": 18,
   "metadata": {
    "collapsed": false
   },
   "outputs": [
    {
     "name": "stdout",
     "output_type": "stream",
     "text": [
      "Train on 2711 samples, validate on 302 samples\n",
      "Epoch 3/3\n",
      "2711/2711 [==============================] - 5180s - loss: 0.1881 - val_loss: 0.1886\n"
     ]
    },
    {
     "data": {
      "text/plain": [
       "<keras.callbacks.History at 0x22346630>"
      ]
     },
     "execution_count": 18,
     "metadata": {},
     "output_type": "execute_result"
    }
   ],
   "source": [
    "partialPath=\"weights-improvement-{epoch:02d}-{val_acc:.2f}.hdf5\"\n",
    "checkpoint = keras.callbacks.ModelCheckpoint(os.path.join('C:\\Users\\David\\Desktop\\Fish\\kerasModel',partialPath), monitor='val_acc', verbose=1, save_best_only=True,save_weights_only = False, mode='max')\n",
    "callbacks_list = [checkpoint]\n",
    "model.fit(x=images, y=transposedScoreMaps, batch_size=10, nb_epoch=3, verbose=1, callbacks=None, validation_split=0.1, shuffle=True, class_weight=None, sample_weight=None, initial_epoch=2)"
   ]
  },
  {
   "cell_type": "code",
   "execution_count": 19,
   "metadata": {
    "collapsed": true
   },
   "outputs": [],
   "source": [
    "model.save('C:\\Users\\David\\Desktop\\Fish\\kerasModel\\FirstModel4.h5')"
   ]
  },
  {
   "cell_type": "code",
   "execution_count": 20,
   "metadata": {
    "collapsed": false
   },
   "outputs": [
    {
     "name": "stdout",
     "output_type": "stream",
     "text": [
      "Train on 2711 samples, validate on 302 samples\n",
      "Epoch 4/4\n",
      "2711/2711 [==============================] - 4930s - loss: 0.1703 - val_loss: 0.1875\n"
     ]
    },
    {
     "data": {
      "text/plain": [
       "<keras.callbacks.History at 0x22364f98>"
      ]
     },
     "execution_count": 20,
     "metadata": {},
     "output_type": "execute_result"
    }
   ],
   "source": [
    "partialPath=\"weights-improvement-{epoch:02d}-{val_acc:.2f}.hdf5\"\n",
    "checkpoint = keras.callbacks.ModelCheckpoint(os.path.join('C:\\Users\\David\\Desktop\\Fish\\kerasModel',partialPath), monitor='val_acc', verbose=1, save_best_only=True,save_weights_only = False, mode='max')\n",
    "callbacks_list = [checkpoint]\n",
    "model.fit(x=images, y=transposedScoreMaps, batch_size=10, nb_epoch=4, verbose=1, callbacks=None, validation_split=0.1, shuffle=True, class_weight=None, sample_weight=None, initial_epoch=3)"
   ]
  },
  {
   "cell_type": "code",
   "execution_count": 21,
   "metadata": {
    "collapsed": true
   },
   "outputs": [],
   "source": [
    "model.save('C:\\Users\\David\\Desktop\\Fish\\kerasModel\\FirstModel5.h5')"
   ]
  },
  {
   "cell_type": "code",
   "execution_count": 23,
   "metadata": {
    "collapsed": false
   },
   "outputs": [
    {
     "name": "stdout",
     "output_type": "stream",
     "text": [
      "4\n"
     ]
    }
   ],
   "source": []
  },
  {
   "cell_type": "code",
   "execution_count": null,
   "metadata": {
    "collapsed": true
   },
   "outputs": [],
   "source": []
  }
 ],
 "metadata": {
  "anaconda-cloud": {},
  "kernelspec": {
   "display_name": "Python [Root]",
   "language": "python",
   "name": "Python [Root]"
  },
  "language_info": {
   "codemirror_mode": {
    "name": "ipython",
    "version": 2
   },
   "file_extension": ".py",
   "mimetype": "text/x-python",
   "name": "python",
   "nbconvert_exporter": "python",
   "pygments_lexer": "ipython2",
   "version": "2.7.12"
  }
 },
 "nbformat": 4,
 "nbformat_minor": 0
}
