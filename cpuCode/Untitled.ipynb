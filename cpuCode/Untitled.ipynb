{
 "cells": [
  {
   "cell_type": "code",
   "execution_count": 1,
   "metadata": {
    "collapsed": false
   },
   "outputs": [
    {
     "name": "stderr",
     "output_type": "stream",
     "text": [
      "Using Theano backend.\n"
     ]
    },
    {
     "name": "stdout",
     "output_type": "stream",
     "text": [
      "(60000L, 28L, 28L)\n",
      "(60000L,)\n"
     ]
    }
   ],
   "source": [
    "import numpy as np\n",
    "import theano\n",
    "np.random.seed(123)  # for reproducibility\n",
    "from keras.models import Sequential\n",
    "from keras.layers import Dense, Dropout, Activation, Flatten\n",
    "from keras.layers import Convolution2D, MaxPooling2D\n",
    "from keras.utils import np_utils\n",
    "\n",
    "from keras.datasets import mnist\n",
    " \n",
    "# Load pre-shuffled MNIST data into train and test sets\n",
    "(X_train, y_train), (X_test, y_test) = mnist.load_data()\n",
    "print X_train.shape\n",
    "print y_train.shape\n",
    "\n",
    "%load_ext autoreload\n",
    "%autoreload 2"
   ]
  },
  {
   "cell_type": "code",
   "execution_count": 2,
   "metadata": {
    "collapsed": false
   },
   "outputs": [],
   "source": [
    "X_train = X_train.reshape(X_train.shape[0], 1, 28, 28)\n",
    "X_test = X_test.reshape(X_test.shape[0], 1, 28, 28)\n",
    "\n",
    "X_train = X_train.astype('float32')\n",
    "X_test = X_test.astype('float32')\n",
    "X_train /= 255\n",
    "X_test /= 255\n",
    "\n",
    "# Convert 1-dimensional class arrays to 10-dimensional class matrices\n",
    "Y_train = np_utils.to_categorical(y_train, 10)\n",
    "Y_test = np_utils.to_categorical(y_test, 10)\n"
   ]
  },
  {
   "cell_type": "code",
   "execution_count": 5,
   "metadata": {
    "collapsed": false
   },
   "outputs": [
    {
     "name": "stdout",
     "output_type": "stream",
     "text": [
      "ready to start training\n"
     ]
    }
   ],
   "source": [
    "from keras.preprocessing.image import ImageDataGenerator as ImageDataGenerator\n",
    "model = Sequential()\n",
    "\n",
    "model.add(Convolution2D(32, 3, 3, activation='relu', input_shape=(1,28,28), dim_ordering='th'))\n",
    "model.add(Convolution2D(32, 3, 3, activation='relu'))\n",
    "model.add(MaxPooling2D(pool_size=(2,2)))\n",
    "model.add(Dropout(0.25))\n",
    "model.add(Flatten())\n",
    "model.add(Dense(128, activation='relu'))\n",
    "model.add(Dropout(0.5))\n",
    "model.add(Dense(10, activation='softmax'))\n",
    "\n",
    "\n",
    "train_datagen = ImageDataGenerator(\n",
    "    rotation_range=20,\n",
    "    width_shift_range=0.2,\n",
    "    height_shift_range=0.2)\n",
    "\n",
    "test_datagen = ImageDataGenerator()\n",
    "\n",
    "train_datagen.fit(X_train)\n",
    "\n",
    "print 'ready to start training'\n",
    "\n",
    "\n",
    "\n",
    "\n"
   ]
  },
  {
   "cell_type": "code",
   "execution_count": 6,
   "metadata": {
    "collapsed": false
   },
   "outputs": [
    {
     "name": "stdout",
     "output_type": "stream",
     "text": [
      "Automatic pdb calling has been turned OFF\n",
      "Epoch 1/10\n",
      "59900/60000 [============================>.] - ETA: 0s - loss: 0.7773 - acc: 0.7420 - recall: 0.6479Epoch 00000: saving model to C:/Users/David/Desktop/Fish/kerasModel/try/weights.00-0.97.h5\n",
      "60000/60000 [==============================] - 152s - loss: 0.7768 - acc: 0.7422 - recall: 0.6482 - val_loss: 0.1150 - val_acc: 0.9674 - val_recall: 0.9598\n",
      "Epoch 2/10\n",
      "59900/60000 [============================>.] - ETA: 0s - loss: 0.3859 - acc: 0.8803 - recall: 0.8491Epoch 00001: saving model to C:/Users/David/Desktop/Fish/kerasModel/try/weights.01-0.97.h5\n",
      "60000/60000 [==============================] - 161s - loss: 0.3860 - acc: 0.8803 - recall: 0.8492 - val_loss: 0.0768 - val_acc: 0.9745 - val_recall: 0.9704\n",
      "Epoch 3/10\n",
      "59900/60000 [============================>.] - ETA: 0s - loss: 0.3143 - acc: 0.9043 - recall: 0.8824Epoch 00002: saving model to C:/Users/David/Desktop/Fish/kerasModel/try/weights.02-0.98.h5\n",
      "60000/60000 [==============================] - 163s - loss: 0.3143 - acc: 0.9043 - recall: 0.8824 - val_loss: 0.0690 - val_acc: 0.9779 - val_recall: 0.9739\n"
     ]
    },
    {
     "data": {
      "text/plain": [
       "<keras.callbacks.History at 0x2a717358>"
      ]
     },
     "execution_count": 6,
     "metadata": {},
     "output_type": "execute_result"
    }
   ],
   "source": [
    "%pdb\n",
    "import h5py\n",
    "from keras import callbacks as cb\n",
    "myCallback = cb.EarlyStopping(monitor='acc', min_delta=0.05, patience=0, verbose=0, mode='max')\n",
    "checkPoint = cb.ModelCheckpoint('C:/Users/David/Desktop/Fish/kerasModel/try/weights.{epoch:02d}-{val_acc:.2f}.h5', monitor='val_acc', verbose=1, save_best_only=False, save_weights_only=False, mode='max', period=1)\n",
    "#reduce_lr = cb.ReduceLROnPlateau(monitor='acc', factor=0.2,\n",
    "                  #patience=1, min_lr=0.0001)\n",
    "model.compile(loss='categorical_crossentropy',\n",
    "              optimizer='Nadam',\n",
    "              metrics=['accuracy', 'recall'])\n",
    "model.fit_generator(train_datagen.flow(X_train, Y_train, batch_size=100),\n",
    "                    callbacks=[myCallback, checkPoint],\n",
    "                    validation_data=[X_test, Y_test],\n",
    "                    samples_per_epoch=len(X_train), nb_epoch=10)\n",
    "\n",
    "#model.fit(X_train, Y_train, \n",
    "#          batch_size=32, nb_epoch=10, verbose=1)"
   ]
  },
  {
   "cell_type": "code",
   "execution_count": null,
   "metadata": {
    "collapsed": false
   },
   "outputs": [],
   "source": []
  },
  {
   "cell_type": "code",
   "execution_count": null,
   "metadata": {
    "collapsed": true
   },
   "outputs": [],
   "source": []
  }
 ],
 "metadata": {
  "anaconda-cloud": {},
  "kernelspec": {
   "display_name": "Python [Root]",
   "language": "python",
   "name": "Python [Root]"
  },
  "language_info": {
   "codemirror_mode": {
    "name": "ipython",
    "version": 2
   },
   "file_extension": ".py",
   "mimetype": "text/x-python",
   "name": "python",
   "nbconvert_exporter": "python",
   "pygments_lexer": "ipython2",
   "version": "2.7.12"
  }
 },
 "nbformat": 4,
 "nbformat_minor": 0
}
